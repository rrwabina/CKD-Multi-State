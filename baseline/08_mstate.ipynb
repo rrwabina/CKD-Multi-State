{
 "cells": [
  {
   "cell_type": "code",
   "execution_count": 6,
   "metadata": {
    "vscode": {
     "languageId": "r"
    }
   },
   "outputs": [],
   "source": [
    "library(ggplot2)\n",
    "library(GGally)\n",
    "library(dplyr)\n",
    "library(naniar)\n",
    "library(e1071)\n",
    "library(MASS)\n",
    "library(caret)\n",
    "library(class)\n",
    "library(lpSolve)\n",
    "library(magick)\n",
    "library(tensorflow)\n",
    "library(neuralnet)\n",
    "library(spatstat)\n",
    "library(OpenImageR)\n",
    "library(raster)\n",
    "library(ROSE)\n",
    "library(SpatialPack)\n",
    "library(devtools)\n",
    "library(tibble)\n",
    "library(mstate)"
   ]
  },
  {
   "cell_type": "code",
   "execution_count": 7,
   "metadata": {
    "vscode": {
     "languageId": "r"
    }
   },
   "outputs": [],
   "source": [
    "# 1 'CKD3A', \n",
    "# 2 'CKD3B', \n",
    "# 3 'CKD4',\n",
    "# 4 'CKD5A', \n",
    "# 5 'CKD5B', \n",
    "# 6 'CVD', \n",
    "# 7 'DEATH'"
   ]
  },
  {
   "cell_type": "code",
   "execution_count": 10,
   "metadata": {
    "vscode": {
     "languageId": "r"
    }
   },
   "outputs": [],
   "source": [
    "states <- c('CKD3A', 'CKD3B', 'CKD4', 'CKD5A', 'CKD5B', 'CVD', 'DEATH')\n",
    "transitions <- transmat(x = list(c(2, 3, 4, 5, 6, 7),\n",
    "                                 c(3, 4, 5, 6, 7),\n",
    "                                 c(4, 5, 6, 7),\n",
    "                                 c(5, 6, 7),\n",
    "                                 c(6, 7),\n",
    "                                 c(2, 3, 4, 5, 7),\n",
    "                                 c()), names = states)"
   ]
  }
 ],
 "metadata": {
  "kernelspec": {
   "display_name": "R",
   "language": "R",
   "name": "ir"
  },
  "language_info": {
   "codemirror_mode": "r",
   "file_extension": ".r",
   "mimetype": "text/x-r-source",
   "name": "R",
   "pygments_lexer": "r",
   "version": "4.2.1"
  }
 },
 "nbformat": 4,
 "nbformat_minor": 2
}
