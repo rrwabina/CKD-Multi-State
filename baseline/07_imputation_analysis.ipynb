{
 "cells": [
  {
   "cell_type": "code",
   "execution_count": 3,
   "metadata": {},
   "outputs": [],
   "source": [
    "import numpy as np\n",
    "import pandas as pd\n",
    "import os\n",
    "\n",
    "import datetime\n",
    "import statsmodels.api as sm\n",
    "import statsmodels.formula.api as smf\n",
    "import matplotlib.pyplot as plt\n",
    "import seaborn as sns\n",
    "import statsmodels.formula.api as smf\n",
    "import pyampute\n",
    "import pickle \n",
    "import time\n",
    "\n",
    "from scipy.stats import mstats\n",
    "from scipy.stats.mstats import winsorize\n",
    "from scipy import stats\n",
    "from xgboost import XGBRegressor\n",
    "from sklearn import tree\n",
    "from pyampute.ampute import MultivariateAmputation\n",
    "from tqdm import tqdm\n",
    "from sklearn.preprocessing import LabelEncoder\n",
    "from lifelines import CoxPHFitter, WeibullFitter, WeibullAFTFitter\n",
    "from datetime import datetime, date, timedelta\n",
    "from sklearn.preprocessing import LabelEncoder\n",
    "from sklearn.model_selection import train_test_split\n",
    "from tableone import TableOne \n",
    "from os.path import isfile, join\n",
    "from sklearn.metrics import mean_absolute_error, roc_auc_score, precision_score, recall_score, accuracy_score\n",
    "from sklearn.metrics import mean_absolute_error, mean_absolute_percentage_error, mean_squared_error\n",
    "from statsmodels.gam.tests.test_penalized import df_autos\n",
    "from statsmodels.stats.outliers_influence import variance_inflation_factor\n",
    "from scipy.stats import norm\n",
    "from scipy.spatial import distance\n",
    "from sklearn.metrics import mean_absolute_error, mean_absolute_percentage_error, mean_squared_error\n",
    "from app_transition_dict import get_transition_dict\n",
    "import warnings \n",
    "warnings.filterwarnings('ignore')\n",
    "\n",
    "\n",
    "drive = 'G'\n",
    "main_path = drive + ':/Shared drives/CKD_Progression/data/CKD_COHORT_Jan2010_Mar2024_v3.csv'\n",
    "data_path = drive + ':/Shared drives/CKD_Progression/data/'\n",
    "docs_path = drive + ':/Shared drives/CKD_Progression/docs/'\n",
    "save_path = drive + ':/Shared drives/CKD_Progression/save/'\n",
    "resu_path = drive + ':/Shared drives/CKD_Progression/result/'\n",
    "covariates_path = docs_path + 'covariates.csv'\n",
    "removecols_path = docs_path + 'remove_columns.csv'\n",
    "\n",
    "def calculate_summary_statistics(df):\n",
    "    mean_values   = df.mean()\n",
    "    std_values    = df.std()\n",
    "    median_values = df.median()\n",
    "    iqr_values    = df.quantile(0.75) - df.quantile(0.25)\n",
    "    summary_stats = pd.DataFrame({\n",
    "        'Mean': mean_values,\n",
    "        'Standard Deviation': std_values,\n",
    "        'Median': median_values,\n",
    "        'IQR': iqr_values})\n",
    "    return summary_stats"
   ]
  },
  {
   "cell_type": "code",
   "execution_count": 11,
   "metadata": {},
   "outputs": [],
   "source": [
    "columns_impute = ['BMI', 'BW', 'HIGH', 'Lipid_HDL', 'Lipid_LDL', 'Chem_glucose', 'Chem_HbA1C', 'Renal_Uric_acid', \n",
    "                  'Lipid_Cholesterol', 'Renal_Serum_creatinine', 'Lipid_Triglyceride', 'age', 'Renal_eGFR', 'CVD']\n",
    "\n",
    "main_data = pd.read_csv(save_path + 'qoc_cohort_ver002.csv')\n",
    "main_data = main_data.rename(columns = {'height': 'HIGH'})\n",
    "main_data = main_data[columns_impute]\n",
    "main_data['BMI'] = np.divide(main_data['BW'], np.divide(main_data['HIGH'], 100) ** 2)\n",
    "calculate_summary_statistics(main_data).to_csv(resu_path + 'imputation/models/LinearReg/statistics_orig.csv')"
   ]
  },
  {
   "cell_type": "code",
   "execution_count": 18,
   "metadata": {},
   "outputs": [],
   "source": [
    "pd.DataFrame((main_data.isnull().sum()/main_data.shape[0])*100).to_csv(resu_path + 'imputation/models/LinearReg/missing_rate.csv')"
   ]
  },
  {
   "cell_type": "code",
   "execution_count": 4,
   "metadata": {},
   "outputs": [],
   "source": [
    "for dataset in ['90']:\n",
    "    df = pd.read_csv(resu_path + f'imputation/LinearReg/IMPUTED_LinearReg_{dataset}D_10I.csv')\n",
    "    df['BMI'] = np.divide(df['BW'], np.divide(df['HIGH'], 100) ** 2)\n",
    "    calculate_summary_statistics(df).to_csv(resu_path + f'imputation/models/LinearReg/statistics_resu_{dataset}D.csv')"
   ]
  }
 ],
 "metadata": {
  "kernelspec": {
   "display_name": "Python 3",
   "language": "python",
   "name": "python3"
  },
  "language_info": {
   "codemirror_mode": {
    "name": "ipython",
    "version": 3
   },
   "file_extension": ".py",
   "mimetype": "text/x-python",
   "name": "python",
   "nbconvert_exporter": "python",
   "pygments_lexer": "ipython3",
   "version": "3.9.2"
  }
 },
 "nbformat": 4,
 "nbformat_minor": 2
}
